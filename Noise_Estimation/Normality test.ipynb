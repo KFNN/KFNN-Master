{
 "cells": [
  {
   "cell_type": "code",
   "execution_count": 1,
   "metadata": {},
   "outputs": [],
   "source": [
    "import numpy as np\n",
    "import seaborn as sns\n",
    "from scipy.stats import norm\n",
    "import matplotlib.pyplot as plt\n",
    "from scipy.stats import normaltest\n",
    "from scipy.stats import kstest\n",
    "from scipy import stats\n",
    "\n",
    "from scipy.stats import skewtest\n",
    "from scipy.stats import kurtosistest"
   ]
  },
  {
   "cell_type": "code",
   "execution_count": 47,
   "metadata": {},
   "outputs": [],
   "source": [
    "vgg19_top1 = np.load('vgg19_top1.npy')\n",
    "vgg19_top5 = np.load('vgg19_top5.npy')\n",
    "\n",
    "vgg19_bn_top1 = np.load('vgg19_bn_top1.npy')\n",
    "vgg19_bn_top5 = np.load('vgg19_bn_top5.npy')\n",
    "\n",
    "vgg16_bn_top1 = np.load('vgg16_bn_top1.npy')\n",
    "vgg16_bn_top5 = np.load('vgg16_bn_top5.npy')\n",
    "\n",
    "vgg13_bn_top1 = np.load('vgg13_bn_top1.npy')\n",
    "vgg13_bn_top5 = np.load('vgg13_bn_top5.npy')\n",
    "\n",
    "vgg13_top1 = np.load('vgg13_top1.npy')\n",
    "vgg13_top5 = np.load('vgg13_top5.npy')\n",
    "\n",
    "vgg11_bn_top1 = np.load('vgg11_bn_top1.npy')\n",
    "vgg11_bn_top5 = np.load('vgg11_bn_top5.npy')\n",
    "\n",
    "resnet152_top1 = np.load('resnet152_top1.npy')\n",
    "resnet152_top5 = np.load('resnet152_top5.npy')\n",
    "\n",
    "resnet101_top1 = np.load('resnet101_top1.npy')\n",
    "resnet101_top5 = np.load('resnet101_top5.npy')\n",
    "\n",
    "resnet50_top1 = np.load('resnet50_top1.npy')\n",
    "resnet50_top5 = np.load('resnet50_top5.npy')\n",
    "\n",
    "resnet34_top1 = np.load('resnet34_top1.npy')\n",
    "resnet34_top5 = np.load('resnet34_top5.npy')\n",
    "\n",
    "densenet121_top1 = np.load('densenet121_top1.npy')\n",
    "densenet121_top5 = np.load('densenet121_top5.npy')\n",
    "\n",
    "alexnet_top1 = np.load('alexnet_top1.npy')\n",
    "alexnet_top5 = np.load('alexnet_top5.npy')\n",
    "\n",
    "vgg16_top1 = np.load('vgg16_top1.npy')\n",
    "vgg16_top5 = np.load('vgg16_top5.npy')\n",
    "\n",
    "vgg11_top1 = np.load('vgg11_top1.npy')\n",
    "vgg11_top5 = np.load('vgg11_top5.npy')\n",
    "\n",
    "resnet18_top1 = np.load('resnet18_top1.npy')\n",
    "resnet18_top5 = np.load('resnet18_top5.npy')\n",
    "\n",
    "#nasnetalarge_top1 = np.load('nasnetalarge_top1.npy')\n",
    "#nasnetalarge_top5 = np.load('nasnetalarge_top5.npy')"
   ]
  },
  {
   "cell_type": "code",
   "execution_count": 3,
   "metadata": {},
   "outputs": [],
   "source": [
    "vgg19_bn_top1 = vgg19_bn_top1 * 0.01\n",
    "err_vgg19_bn_top1 = 1 - vgg19_bn_top1"
   ]
  },
  {
   "cell_type": "code",
   "execution_count": 9,
   "metadata": {},
   "outputs": [
    {
     "name": "stdout",
     "output_type": "stream",
     "text": [
      "0.25782 0.0020098476000000006\n"
     ]
    }
   ],
   "source": [
    "print(err_vgg19_bn_top1.mean(),err_vgg19_bn_top1.var())"
   ]
  },
  {
   "cell_type": "code",
   "execution_count": 10,
   "metadata": {},
   "outputs": [
    {
     "data": {
      "text/plain": [
       "SkewtestResult(statistic=2.4842720762953467, pvalue=0.012981658099723261)"
      ]
     },
     "execution_count": 10,
     "metadata": {},
     "output_type": "execute_result"
    }
   ],
   "source": [
    "skewtest(err_vgg19_bn_top1)"
   ]
  },
  {
   "cell_type": "code",
   "execution_count": 13,
   "metadata": {},
   "outputs": [
    {
     "data": {
      "text/plain": [
       "KurtosistestResult(statistic=0.5990187424680468, pvalue=0.5491603862462335)"
      ]
     },
     "execution_count": 13,
     "metadata": {},
     "output_type": "execute_result"
    }
   ],
   "source": [
    "kurtosistest(err_vgg19_bn_top1)"
   ]
  },
  {
   "cell_type": "code",
   "execution_count": 12,
   "metadata": {},
   "outputs": [
    {
     "data": {
      "text/plain": [
       "NormaltestResult(statistic=6.530431202888793, pvalue=0.03818870065701341)"
      ]
     },
     "execution_count": 12,
     "metadata": {},
     "output_type": "execute_result"
    }
   ],
   "source": [
    "normaltest(err_vgg19_bn_top1, axis=None)"
   ]
  },
  {
   "cell_type": "code",
   "execution_count": 14,
   "metadata": {},
   "outputs": [
    {
     "name": "stdout",
     "output_type": "stream",
     "text": [
      "0.27624 0.0019226623999999996\n"
     ]
    }
   ],
   "source": [
    "vgg19_top1 = vgg19_top1 * 0.01\n",
    "err_vgg19_top1 = 1 - vgg19_top1\n",
    "print(err_vgg19_top1.mean(),err_vgg19_top1.var())"
   ]
  },
  {
   "cell_type": "code",
   "execution_count": 15,
   "metadata": {},
   "outputs": [
    {
     "data": {
      "text/plain": [
       "SkewtestResult(statistic=-0.3552639452784145, pvalue=0.722391863481788)"
      ]
     },
     "execution_count": 15,
     "metadata": {},
     "output_type": "execute_result"
    }
   ],
   "source": [
    "skewtest(err_vgg19_top1)"
   ]
  },
  {
   "cell_type": "code",
   "execution_count": 16,
   "metadata": {},
   "outputs": [
    {
     "data": {
      "text/plain": [
       "KurtosistestResult(statistic=0.5324214730075477, pvalue=0.5944341162380178)"
      ]
     },
     "execution_count": 16,
     "metadata": {},
     "output_type": "execute_result"
    }
   ],
   "source": [
    "kurtosistest(err_vgg19_top1)"
   ]
  },
  {
   "cell_type": "code",
   "execution_count": 17,
   "metadata": {},
   "outputs": [
    {
     "data": {
      "text/plain": [
       "NormaltestResult(statistic=0.4096850957343111, pvalue=0.8147755944674613)"
      ]
     },
     "execution_count": 17,
     "metadata": {},
     "output_type": "execute_result"
    }
   ],
   "source": [
    "normaltest(err_vgg19_top1, axis=None)"
   ]
  },
  {
   "cell_type": "code",
   "execution_count": 18,
   "metadata": {},
   "outputs": [
    {
     "name": "stdout",
     "output_type": "stream",
     "text": [
      "0.28407999999999994 0.0019553535999999997\n"
     ]
    }
   ],
   "source": [
    "vgg16_top1 = vgg16_top1 * 0.01\n",
    "err_vgg16_top1 = 1 - vgg16_top1\n",
    "print(err_vgg16_top1.mean(),err_vgg16_top1.var())"
   ]
  },
  {
   "cell_type": "code",
   "execution_count": 19,
   "metadata": {},
   "outputs": [
    {
     "data": {
      "text/plain": [
       "SkewtestResult(statistic=1.4362290356941076, pvalue=0.15093717942166623)"
      ]
     },
     "execution_count": 19,
     "metadata": {},
     "output_type": "execute_result"
    }
   ],
   "source": [
    "skewtest(err_vgg16_top1)"
   ]
  },
  {
   "cell_type": "code",
   "execution_count": 20,
   "metadata": {},
   "outputs": [
    {
     "data": {
      "text/plain": [
       "KurtosistestResult(statistic=0.7359278829321638, pvalue=0.46177458741248145)"
      ]
     },
     "execution_count": 20,
     "metadata": {},
     "output_type": "execute_result"
    }
   ],
   "source": [
    "kurtosistest(err_vgg16_top1)"
   ]
  },
  {
   "cell_type": "code",
   "execution_count": 21,
   "metadata": {},
   "outputs": [
    {
     "data": {
      "text/plain": [
       "NormaltestResult(statistic=2.604343691847843, pvalue=0.2719405382597165)"
      ]
     },
     "execution_count": 21,
     "metadata": {},
     "output_type": "execute_result"
    }
   ],
   "source": [
    "normaltest(err_vgg16_top1, axis=None)"
   ]
  },
  {
   "cell_type": "code",
   "execution_count": 22,
   "metadata": {},
   "outputs": [
    {
     "name": "stdout",
     "output_type": "stream",
     "text": [
      "0.26639999999999997 0.0019078399999999998\n"
     ]
    }
   ],
   "source": [
    "vgg16_bn_top1 = vgg16_bn_top1 * 0.01\n",
    "err_vgg16_bn_top1 = 1 - vgg16_bn_top1\n",
    "print(err_vgg16_bn_top1.mean(),err_vgg16_bn_top1.var())"
   ]
  },
  {
   "cell_type": "code",
   "execution_count": 23,
   "metadata": {},
   "outputs": [
    {
     "data": {
      "text/plain": [
       "SkewtestResult(statistic=0.4038212335431586, pvalue=0.6863441810658817)"
      ]
     },
     "execution_count": 23,
     "metadata": {},
     "output_type": "execute_result"
    }
   ],
   "source": [
    "skewtest(err_vgg16_bn_top1)"
   ]
  },
  {
   "cell_type": "code",
   "execution_count": 24,
   "metadata": {},
   "outputs": [
    {
     "data": {
      "text/plain": [
       "KurtosistestResult(statistic=-0.5667445190225036, pvalue=0.5708877695888237)"
      ]
     },
     "execution_count": 24,
     "metadata": {},
     "output_type": "execute_result"
    }
   ],
   "source": [
    "kurtosistest(err_vgg16_bn_top1)"
   ]
  },
  {
   "cell_type": "code",
   "execution_count": 25,
   "metadata": {},
   "outputs": [
    {
     "data": {
      "text/plain": [
       "NormaltestResult(statistic=0.48427093850236713, pvalue=0.7849498337826375)"
      ]
     },
     "execution_count": 25,
     "metadata": {},
     "output_type": "execute_result"
    }
   ],
   "source": [
    "normaltest(err_vgg16_bn_top1, axis=None)"
   ]
  },
  {
   "cell_type": "code",
   "execution_count": 3,
   "metadata": {},
   "outputs": [
    {
     "name": "stdout",
     "output_type": "stream",
     "text": [
      "0.28414 0.0020522603999999995\n"
     ]
    }
   ],
   "source": [
    "vgg13_bn_top1 = vgg13_bn_top1 * 0.01\n",
    "err_vgg13_bn_top1 = 1 - vgg13_bn_top1\n",
    "print(err_vgg13_bn_top1.mean(),err_vgg13_bn_top1.var())"
   ]
  },
  {
   "cell_type": "code",
   "execution_count": 4,
   "metadata": {},
   "outputs": [
    {
     "data": {
      "text/plain": [
       "SkewtestResult(statistic=1.1533921538287197, pvalue=0.2487494604966849)"
      ]
     },
     "execution_count": 4,
     "metadata": {},
     "output_type": "execute_result"
    }
   ],
   "source": [
    "skewtest(err_vgg13_bn_top1)"
   ]
  },
  {
   "cell_type": "code",
   "execution_count": 5,
   "metadata": {},
   "outputs": [
    {
     "data": {
      "text/plain": [
       "KurtosistestResult(statistic=-1.2518340620067894, pvalue=0.2106303356159085)"
      ]
     },
     "execution_count": 5,
     "metadata": {},
     "output_type": "execute_result"
    }
   ],
   "source": [
    "kurtosistest(err_vgg13_bn_top1)"
   ]
  },
  {
   "cell_type": "code",
   "execution_count": 6,
   "metadata": {},
   "outputs": [
    {
     "data": {
      "text/plain": [
       "NormaltestResult(statistic=2.897401979314071, pvalue=0.23487519532012827)"
      ]
     },
     "execution_count": 6,
     "metadata": {},
     "output_type": "execute_result"
    }
   ],
   "source": [
    "normaltest(err_vgg13_bn_top1, axis=None)"
   ]
  },
  {
   "cell_type": "code",
   "execution_count": 7,
   "metadata": {},
   "outputs": [
    {
     "name": "stdout",
     "output_type": "stream",
     "text": [
      "0.30072000000000004 0.0018018815999999993\n"
     ]
    }
   ],
   "source": [
    "vgg13_top1 = vgg13_top1 * 0.01\n",
    "err_vgg13_top1 = 1 - vgg13_top1\n",
    "print(err_vgg13_top1.mean(),err_vgg13_top1.var())"
   ]
  },
  {
   "cell_type": "code",
   "execution_count": 8,
   "metadata": {},
   "outputs": [
    {
     "data": {
      "text/plain": [
       "SkewtestResult(statistic=-0.03104895216839328, pvalue=0.975230500287138)"
      ]
     },
     "execution_count": 8,
     "metadata": {},
     "output_type": "execute_result"
    }
   ],
   "source": [
    "skewtest(err_vgg13_top1)"
   ]
  },
  {
   "cell_type": "code",
   "execution_count": 9,
   "metadata": {},
   "outputs": [
    {
     "data": {
      "text/plain": [
       "KurtosistestResult(statistic=-1.3201206073146659, pvalue=0.1867947535355643)"
      ]
     },
     "execution_count": 9,
     "metadata": {},
     "output_type": "execute_result"
    }
   ],
   "source": [
    "kurtosistest(err_vgg13_top1)"
   ]
  },
  {
   "cell_type": "code",
   "execution_count": 10,
   "metadata": {},
   "outputs": [
    {
     "data": {
      "text/plain": [
       "NormaltestResult(statistic=1.7436824552875974, pvalue=0.4181808737859576)"
      ]
     },
     "execution_count": 10,
     "metadata": {},
     "output_type": "execute_result"
    }
   ],
   "source": [
    "normaltest(err_vgg13_top1, axis=None)"
   ]
  },
  {
   "cell_type": "code",
   "execution_count": 11,
   "metadata": {},
   "outputs": [
    {
     "name": "stdout",
     "output_type": "stream",
     "text": [
      "0.29629999999999995 0.00224171\n"
     ]
    }
   ],
   "source": [
    "vgg11_bn_top1 = vgg11_bn_top1 * 0.01\n",
    "err_vgg11_bn_top1 = 1 - vgg11_bn_top1\n",
    "print(err_vgg11_bn_top1.mean(),err_vgg11_bn_top1.var())"
   ]
  },
  {
   "cell_type": "code",
   "execution_count": 12,
   "metadata": {},
   "outputs": [
    {
     "data": {
      "text/plain": [
       "SkewtestResult(statistic=1.1609678214101744, pvalue=0.24565498577506717)"
      ]
     },
     "execution_count": 12,
     "metadata": {},
     "output_type": "execute_result"
    }
   ],
   "source": [
    "skewtest(err_vgg11_bn_top1)"
   ]
  },
  {
   "cell_type": "code",
   "execution_count": 13,
   "metadata": {},
   "outputs": [
    {
     "data": {
      "text/plain": [
       "KurtosistestResult(statistic=0.02746289005138839, pvalue=0.9780905381246612)"
      ]
     },
     "execution_count": 13,
     "metadata": {},
     "output_type": "execute_result"
    }
   ],
   "source": [
    "kurtosistest(err_vgg11_bn_top1)"
   ]
  },
  {
   "cell_type": "code",
   "execution_count": 14,
   "metadata": {},
   "outputs": [
    {
     "data": {
      "text/plain": [
       "NormaltestResult(statistic=1.3486004926798614, pvalue=0.5095128293610388)"
      ]
     },
     "execution_count": 14,
     "metadata": {},
     "output_type": "execute_result"
    }
   ],
   "source": [
    "normaltest(err_vgg11_bn_top1, axis=None)"
   ]
  },
  {
   "cell_type": "code",
   "execution_count": 15,
   "metadata": {},
   "outputs": [
    {
     "name": "stdout",
     "output_type": "stream",
     "text": [
      "0.30979999999999996 0.0023431599999999995\n"
     ]
    }
   ],
   "source": [
    "vgg11_top1 = vgg11_top1 * 0.01\n",
    "err_vgg11_top1 = 1 - vgg11_top1\n",
    "print(err_vgg11_top1.mean(),err_vgg11_top1.var())"
   ]
  },
  {
   "cell_type": "code",
   "execution_count": 16,
   "metadata": {},
   "outputs": [
    {
     "data": {
      "text/plain": [
       "SkewtestResult(statistic=0.5604325925871216, pvalue=0.5751844056846636)"
      ]
     },
     "execution_count": 16,
     "metadata": {},
     "output_type": "execute_result"
    }
   ],
   "source": [
    "skewtest(err_vgg11_top1)"
   ]
  },
  {
   "cell_type": "code",
   "execution_count": 17,
   "metadata": {},
   "outputs": [
    {
     "data": {
      "text/plain": [
       "KurtosistestResult(statistic=-2.436718543054522, pvalue=0.014821210450007465)"
      ]
     },
     "execution_count": 17,
     "metadata": {},
     "output_type": "execute_result"
    }
   ],
   "source": [
    "kurtosistest(err_vgg11_top1)"
   ]
  },
  {
   "cell_type": "code",
   "execution_count": 18,
   "metadata": {},
   "outputs": [
    {
     "data": {
      "text/plain": [
       "NormaltestResult(statistic=6.251681948899676, pvalue=0.04389999931740653)"
      ]
     },
     "execution_count": 18,
     "metadata": {},
     "output_type": "execute_result"
    }
   ],
   "source": [
    "normaltest(err_vgg11_top1, axis=None)"
   ]
  },
  {
   "cell_type": "code",
   "execution_count": 19,
   "metadata": {},
   "outputs": [
    {
     "name": "stdout",
     "output_type": "stream",
     "text": [
      "0.30241999999999997 0.0023251435999999998\n"
     ]
    }
   ],
   "source": [
    "resnet18_top1 = resnet18_top1 * 0.01\n",
    "err_resnet18_top1 = 1 - resnet18_top1\n",
    "print(err_resnet18_top1.mean(),err_resnet18_top1.var())"
   ]
  },
  {
   "cell_type": "code",
   "execution_count": 20,
   "metadata": {},
   "outputs": [
    {
     "data": {
      "text/plain": [
       "SkewtestResult(statistic=0.9287749681280018, pvalue=0.35300571961819605)"
      ]
     },
     "execution_count": 20,
     "metadata": {},
     "output_type": "execute_result"
    }
   ],
   "source": [
    "skewtest(err_resnet18_top1)"
   ]
  },
  {
   "cell_type": "code",
   "execution_count": 21,
   "metadata": {},
   "outputs": [
    {
     "data": {
      "text/plain": [
       "KurtosistestResult(statistic=0.6303905853211664, pvalue=0.5284390689985146)"
      ]
     },
     "execution_count": 21,
     "metadata": {},
     "output_type": "execute_result"
    }
   ],
   "source": [
    "kurtosistest(err_resnet18_top1)"
   ]
  },
  {
   "cell_type": "code",
   "execution_count": 22,
   "metadata": {},
   "outputs": [
    {
     "data": {
      "text/plain": [
       "NormaltestResult(statistic=1.2600152314827335, pvalue=0.5325877449409318)"
      ]
     },
     "execution_count": 22,
     "metadata": {},
     "output_type": "execute_result"
    }
   ],
   "source": [
    "normaltest(err_resnet18_top1, axis=None)"
   ]
  },
  {
   "cell_type": "code",
   "execution_count": 23,
   "metadata": {},
   "outputs": [
    {
     "name": "stdout",
     "output_type": "stream",
     "text": [
      "0.26685999999999993 0.0019627404\n"
     ]
    }
   ],
   "source": [
    "resnet34_top1 = resnet34_top1 * 0.01\n",
    "err_resnet34_top1 = 1 - resnet34_top1\n",
    "print(err_resnet34_top1.mean(),err_resnet34_top1.var())"
   ]
  },
  {
   "cell_type": "code",
   "execution_count": 24,
   "metadata": {},
   "outputs": [
    {
     "data": {
      "text/plain": [
       "SkewtestResult(statistic=2.4705615194389767, pvalue=0.013490111352698413)"
      ]
     },
     "execution_count": 24,
     "metadata": {},
     "output_type": "execute_result"
    }
   ],
   "source": [
    "skewtest(err_resnet34_top1)"
   ]
  },
  {
   "cell_type": "code",
   "execution_count": 25,
   "metadata": {},
   "outputs": [
    {
     "data": {
      "text/plain": [
       "KurtosistestResult(statistic=2.4696216542393614, pvalue=0.013525601995253763)"
      ]
     },
     "execution_count": 25,
     "metadata": {},
     "output_type": "execute_result"
    }
   ],
   "source": [
    "kurtosistest(err_resnet34_top1)"
   ]
  },
  {
   "cell_type": "code",
   "execution_count": 26,
   "metadata": {},
   "outputs": [
    {
     "data": {
      "text/plain": [
       "NormaltestResult(statistic=12.202705336420586, pvalue=0.0022398359145970863)"
      ]
     },
     "execution_count": 26,
     "metadata": {},
     "output_type": "execute_result"
    }
   ],
   "source": [
    "normaltest(err_resnet34_top1, axis=None)"
   ]
  },
  {
   "cell_type": "code",
   "execution_count": 27,
   "metadata": {},
   "outputs": [
    {
     "name": "stdout",
     "output_type": "stream",
     "text": [
      "0.2387 0.0016153100000000009\n"
     ]
    }
   ],
   "source": [
    "resnet50_top1 = resnet50_top1 * 0.01\n",
    "err_resnet50_top1 = 1 - resnet50_top1\n",
    "print(err_resnet50_top1.mean(),err_resnet50_top1.var())"
   ]
  },
  {
   "cell_type": "code",
   "execution_count": 28,
   "metadata": {},
   "outputs": [
    {
     "data": {
      "text/plain": [
       "SkewtestResult(statistic=0.315441111561072, pvalue=0.7524267563844511)"
      ]
     },
     "execution_count": 28,
     "metadata": {},
     "output_type": "execute_result"
    }
   ],
   "source": [
    "skewtest(err_resnet50_top1)"
   ]
  },
  {
   "cell_type": "code",
   "execution_count": 29,
   "metadata": {},
   "outputs": [
    {
     "data": {
      "text/plain": [
       "KurtosistestResult(statistic=-0.7032434460426337, pvalue=0.48190404810871745)"
      ]
     },
     "execution_count": 29,
     "metadata": {},
     "output_type": "execute_result"
    }
   ],
   "source": [
    "kurtosistest(err_resnet50_top1)"
   ]
  },
  {
   "cell_type": "code",
   "execution_count": 30,
   "metadata": {},
   "outputs": [
    {
     "data": {
      "text/plain": [
       "NormaltestResult(statistic=0.5940544392648033, pvalue=0.7430237872523262)"
      ]
     },
     "execution_count": 30,
     "metadata": {},
     "output_type": "execute_result"
    }
   ],
   "source": [
    "normaltest(err_resnet50_top1, axis=None)"
   ]
  },
  {
   "cell_type": "code",
   "execution_count": 31,
   "metadata": {},
   "outputs": [
    {
     "name": "stdout",
     "output_type": "stream",
     "text": [
      "0.22626 0.001767412400000001\n"
     ]
    }
   ],
   "source": [
    "resnet101_top1 = resnet101_top1 * 0.01\n",
    "err_resnet101_top1 = 1 - resnet101_top1\n",
    "print(err_resnet101_top1.mean(),err_resnet101_top1.var())"
   ]
  },
  {
   "cell_type": "code",
   "execution_count": 32,
   "metadata": {},
   "outputs": [
    {
     "data": {
      "text/plain": [
       "SkewtestResult(statistic=2.1494539979042417, pvalue=0.0315984289509158)"
      ]
     },
     "execution_count": 32,
     "metadata": {},
     "output_type": "execute_result"
    }
   ],
   "source": [
    "skewtest(err_resnet101_top1)"
   ]
  },
  {
   "cell_type": "code",
   "execution_count": 33,
   "metadata": {},
   "outputs": [
    {
     "data": {
      "text/plain": [
       "KurtosistestResult(statistic=1.9709742310053204, pvalue=0.048726823399176736)"
      ]
     },
     "execution_count": 33,
     "metadata": {},
     "output_type": "execute_result"
    }
   ],
   "source": [
    "kurtosistest(err_resnet101_top1)"
   ]
  },
  {
   "cell_type": "code",
   "execution_count": 34,
   "metadata": {},
   "outputs": [
    {
     "data": {
      "text/plain": [
       "NormaltestResult(statistic=8.504891908393542, pvalue=0.014229386880696603)"
      ]
     },
     "execution_count": 34,
     "metadata": {},
     "output_type": "execute_result"
    }
   ],
   "source": [
    "normaltest(err_resnet101_top1, axis=None)"
   ]
  },
  {
   "cell_type": "code",
   "execution_count": 35,
   "metadata": {},
   "outputs": [
    {
     "name": "stdout",
     "output_type": "stream",
     "text": [
      "0.21688 0.0018346656000000007\n"
     ]
    }
   ],
   "source": [
    "resnet152_top1 = resnet152_top1 * 0.01\n",
    "err_resnet152_top1 = 1 - resnet152_top1\n",
    "print(err_resnet152_top1.mean(),err_resnet152_top1.var())"
   ]
  },
  {
   "cell_type": "code",
   "execution_count": 36,
   "metadata": {},
   "outputs": [
    {
     "data": {
      "text/plain": [
       "SkewtestResult(statistic=2.1044603577918743, pvalue=0.03533830913682118)"
      ]
     },
     "execution_count": 36,
     "metadata": {},
     "output_type": "execute_result"
    }
   ],
   "source": [
    "skewtest(err_resnet152_top1)"
   ]
  },
  {
   "cell_type": "code",
   "execution_count": 37,
   "metadata": {},
   "outputs": [
    {
     "data": {
      "text/plain": [
       "KurtosistestResult(statistic=-0.2639027231816485, pvalue=0.7918548772190089)"
      ]
     },
     "execution_count": 37,
     "metadata": {},
     "output_type": "execute_result"
    }
   ],
   "source": [
    "kurtosistest(err_resnet152_top1)"
   ]
  },
  {
   "cell_type": "code",
   "execution_count": 38,
   "metadata": {},
   "outputs": [
    {
     "data": {
      "text/plain": [
       "NormaltestResult(statistic=4.498398044820194, pvalue=0.10548368079799245)"
      ]
     },
     "execution_count": 38,
     "metadata": {},
     "output_type": "execute_result"
    }
   ],
   "source": [
    "normaltest(err_resnet152_top1, axis=None)"
   ]
  },
  {
   "cell_type": "code",
   "execution_count": 39,
   "metadata": {},
   "outputs": [
    {
     "name": "stdout",
     "output_type": "stream",
     "text": [
      "0.25565999999999994 0.0018461644000000003\n"
     ]
    }
   ],
   "source": [
    "densenet121_top1 = densenet121_top1 * 0.01\n",
    "err_densenet121_top1 = 1 - densenet121_top1\n",
    "print(err_densenet121_top1.mean(),err_densenet121_top1.var())"
   ]
  },
  {
   "cell_type": "code",
   "execution_count": 40,
   "metadata": {},
   "outputs": [
    {
     "data": {
      "text/plain": [
       "SkewtestResult(statistic=0.5259894383153625, pvalue=0.5988955452666598)"
      ]
     },
     "execution_count": 40,
     "metadata": {},
     "output_type": "execute_result"
    }
   ],
   "source": [
    "skewtest(err_densenet121_top1)"
   ]
  },
  {
   "cell_type": "code",
   "execution_count": 41,
   "metadata": {},
   "outputs": [
    {
     "data": {
      "text/plain": [
       "KurtosistestResult(statistic=1.3604811813521185, pvalue=0.17367770407516925)"
      ]
     },
     "execution_count": 41,
     "metadata": {},
     "output_type": "execute_result"
    }
   ],
   "source": [
    "kurtosistest(err_densenet121_top1)"
   ]
  },
  {
   "cell_type": "code",
   "execution_count": 42,
   "metadata": {},
   "outputs": [
    {
     "data": {
      "text/plain": [
       "NormaltestResult(statistic=2.1275739340325663, pvalue=0.34514627475277365)"
      ]
     },
     "execution_count": 42,
     "metadata": {},
     "output_type": "execute_result"
    }
   ],
   "source": [
    "normaltest(err_densenet121_top1, axis=None)"
   ]
  },
  {
   "cell_type": "code",
   "execution_count": 48,
   "metadata": {},
   "outputs": [
    {
     "name": "stdout",
     "output_type": "stream",
     "text": [
      "0.43482 0.0024769676000000003\n"
     ]
    }
   ],
   "source": [
    "alexnet_top1 = alexnet_top1 * 0.01\n",
    "err_alexnet_top1 = 1 - alexnet_top1\n",
    "print(err_alexnet_top1.mean(),err_alexnet_top1.var())"
   ]
  },
  {
   "cell_type": "code",
   "execution_count": 49,
   "metadata": {},
   "outputs": [
    {
     "data": {
      "text/plain": [
       "SkewtestResult(statistic=0.9729128520140142, pvalue=0.33059661689131614)"
      ]
     },
     "execution_count": 49,
     "metadata": {},
     "output_type": "execute_result"
    }
   ],
   "source": [
    "skewtest(err_alexnet_top1)"
   ]
  },
  {
   "cell_type": "code",
   "execution_count": 50,
   "metadata": {},
   "outputs": [
    {
     "data": {
      "text/plain": [
       "KurtosistestResult(statistic=0.03917979379599093, pvalue=0.9687470434802217)"
      ]
     },
     "execution_count": 50,
     "metadata": {},
     "output_type": "execute_result"
    }
   ],
   "source": [
    "kurtosistest(err_alexnet_top1)"
   ]
  },
  {
   "cell_type": "code",
   "execution_count": 51,
   "metadata": {},
   "outputs": [
    {
     "data": {
      "text/plain": [
       "NormaltestResult(statistic=0.9480944738559395, pvalue=0.6224778479319344)"
      ]
     },
     "execution_count": 51,
     "metadata": {},
     "output_type": "execute_result"
    }
   ],
   "source": [
    "normaltest(err_alexnet_top1, axis=None)"
   ]
  },
  {
   "cell_type": "code",
   "execution_count": 52,
   "metadata": {},
   "outputs": [],
   "source": [
    "nasnetalarge_top1 = np.load('nasnetalarge_top1.npy')\n",
    "nasnetalarge_top5 = np.load('nasnetalarge_top5.npy')"
   ]
  },
  {
   "cell_type": "code",
   "execution_count": 53,
   "metadata": {},
   "outputs": [
    {
     "name": "stdout",
     "output_type": "stream",
     "text": [
      "0.1749650123436134 0.0021456211575463986\n"
     ]
    }
   ],
   "source": [
    "nasnetalarge_top1 = nasnetalarge_top1 * 0.01\n",
    "err_nasnetalarge_top1 = 1 - nasnetalarge_top1\n",
    "print(err_nasnetalarge_top1.mean(),err_nasnetalarge_top1.var())"
   ]
  },
  {
   "cell_type": "code",
   "execution_count": 54,
   "metadata": {},
   "outputs": [
    {
     "data": {
      "text/plain": [
       "SkewtestResult(statistic=1.4603823501511353, pvalue=0.14418502078992126)"
      ]
     },
     "execution_count": 54,
     "metadata": {},
     "output_type": "execute_result"
    }
   ],
   "source": [
    "skewtest(err_nasnetalarge_top1)"
   ]
  },
  {
   "cell_type": "code",
   "execution_count": 55,
   "metadata": {},
   "outputs": [
    {
     "data": {
      "text/plain": [
       "KurtosistestResult(statistic=-1.0337000972883243, pvalue=0.3012763876077714)"
      ]
     },
     "execution_count": 55,
     "metadata": {},
     "output_type": "execute_result"
    }
   ],
   "source": [
    "kurtosistest(err_nasnetalarge_top1)"
   ]
  },
  {
   "cell_type": "code",
   "execution_count": 56,
   "metadata": {},
   "outputs": [
    {
     "data": {
      "text/plain": [
       "NormaltestResult(statistic=3.201252499766844, pvalue=0.201770119906323)"
      ]
     },
     "execution_count": 56,
     "metadata": {},
     "output_type": "execute_result"
    }
   ],
   "source": [
    "normaltest(err_nasnetalarge_top1, axis=None)"
   ]
  },
  {
   "cell_type": "code",
   "execution_count": null,
   "metadata": {},
   "outputs": [],
   "source": []
  }
 ],
 "metadata": {
  "kernelspec": {
   "display_name": "Python 3",
   "language": "python",
   "name": "python3"
  },
  "language_info": {
   "codemirror_mode": {
    "name": "ipython",
    "version": 3
   },
   "file_extension": ".py",
   "mimetype": "text/x-python",
   "name": "python",
   "nbconvert_exporter": "python",
   "pygments_lexer": "ipython3",
   "version": "3.6.5"
  }
 },
 "nbformat": 4,
 "nbformat_minor": 2
}
